{
 "cells": [
  {
   "cell_type": "markdown",
   "id": "85755de8",
   "metadata": {},
   "source": [
    "# Самостоятельное задание #5\n",
    "\n",
    "\n",
    "### Задание 1\n",
    "\n",
    "Допишите функцию, которая принимает список, выбирает из него все элементы с четным индексом и возвращает их в виде списка."
   ]
  },
  {
   "cell_type": "code",
   "execution_count": 13,
   "id": "6ef6d9b3",
   "metadata": {},
   "outputs": [
    {
     "name": "stdout",
     "output_type": "stream",
     "text": [
      "[0, 2, 4]\n"
     ]
    }
   ],
   "source": [
    "def chet_in_list(list: list):\n",
    "    return list[::2]\n",
    "\n",
    "print(chet_in_list([0,1,2,3,4,5]))"
   ]
  },
  {
   "cell_type": "markdown",
   "id": "443974c9",
   "metadata": {},
   "source": [
    "### Задание 2\n",
    "\n",
    "Допишите функцию, которая принимает список, выбирает из него все элементы, которые больше предыдущего и возвращает их в виде списка.\n"
   ]
  },
  {
   "cell_type": "code",
   "execution_count": 10,
   "id": "3a8cf925",
   "metadata": {},
   "outputs": [
    {
     "name": "stdout",
     "output_type": "stream",
     "text": [
      "[2, 3, 4, 7]\n"
     ]
    }
   ],
   "source": [
    "def bigger_before_el_list(list: list):\n",
    "    res = []\n",
    "    for i in range(1, len(list)):\n",
    "        if list[i] > list[i - 1]:\n",
    "            res.append(list[i])\n",
    "    return res\n",
    "\n",
    "print (bigger_before_el_list ([1,2,3,0,4,0,7]))"
   ]
  },
  {
   "cell_type": "markdown",
   "id": "34524ede",
   "metadata": {},
   "source": [
    "### Задание 3\n",
    "\n",
    "Допишите функцию, которая принимает список, меняет местами наибольший и наименьший элементы и возвращает этот список."
   ]
  },
  {
   "cell_type": "code",
   "execution_count": 51,
   "id": "34d2beae",
   "metadata": {},
   "outputs": [
    {
     "name": "stdout",
     "output_type": "stream",
     "text": [
      "[7, 2, 3, 4, 1]\n"
     ]
    }
   ],
   "source": [
    "def swap_min_max_list(list: list):\n",
    "    a = min(list)\n",
    "    b = list.index(min(list))\n",
    "    c = list.index(max(list))\n",
    "    list[b] = list[c]\n",
    "    list[c] = a\n",
    "    return list\n",
    "\n",
    "s = [1,2,3,4,7]\n",
    "print (swap_min_max_list (s))\n"
   ]
  }
 ],
 "metadata": {
  "kernelspec": {
   "display_name": "Python 3",
   "language": "python",
   "name": "python3"
  },
  "language_info": {
   "codemirror_mode": {
    "name": "ipython",
    "version": 3
   },
   "file_extension": ".py",
   "mimetype": "text/x-python",
   "name": "python",
   "nbconvert_exporter": "python",
   "pygments_lexer": "ipython3",
   "version": "3.9.7"
  }
 },
 "nbformat": 4,
 "nbformat_minor": 5
}
