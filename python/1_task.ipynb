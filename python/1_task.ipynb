{
 "cells": [
  {
   "cell_type": "markdown",
   "id": "caec52ff",
   "metadata": {},
   "source": [
    "# Самостоятельное задание\n",
    "\n",
    "Мы предлагаем вам потренироваться c логическими и побитовыми операторами."
   ]
  },
  {
   "cell_type": "code",
   "execution_count": 21,
   "id": "7fe7e97e",
   "metadata": {},
   "outputs": [
    {
     "name": "stdout",
     "output_type": "stream",
     "text": [
      "True\n",
      "True\n",
      "True\n",
      "True\n",
      "True\n",
      "True\n",
      "True\n",
      "True\n",
      "True\n"
     ]
    }
   ],
   "source": [
    "a = True\n",
    "\n",
    "b = False\n",
    "\n",
    "print ((a and b) == False)\n",
    "\n",
    "print (((a and b) or b) == False)\n",
    "\n",
    "print (((a and b) or not (a and b)) == True)\n",
    "\n",
    "print ((a and b or not (a or b) or b) == False)\n",
    "\n",
    "print ((b and b or not a and (a or b or a) or not (a or b)) == False)\n",
    "\n",
    "print ((1 << 2) == 4)\n",
    "\n",
    "print ((1 & 0 | 1 >> 1) == 0)\n",
    "\n",
    "print ((1 & 0 | 1 >> 0) == 1)\n",
    "\n",
    "print ((0b101 & 0b111 ^ 0b111 | 0b010) == 2 )"
   ]
  },
  {
   "cell_type": "markdown",
   "id": "06c53579",
   "metadata": {},
   "source": [
    "\n",
    "\n",
    "1. ((a and b) == False\n",
    "\n",
    "2. (a and b) or b == False\n",
    "\n",
    "3. (a and b) or not (a and b) == True\n",
    "\n",
    "4. a and b or not (a or b) or b == False\n",
    "\n",
    "5. b and b or not a and (a or b or a) or not (a or b) == False\n",
    "\n",
    "6. 1 << 2 == 4\n",
    "\n",
    "7. 1 & 0 | 1 >> 1 == 0\n",
    "\n",
    "8. 1 & 0 | 1 >> 0 == 1\n",
    "\n",
    "9. 0b101 & 0b111 ^ 0b111 | 0b010 == 2 Комментарий: \"0b101\" - запись числа \"5\" на языке Python в двоичном виде "
   ]
  }
 ],
 "metadata": {
  "kernelspec": {
   "display_name": "Python 3.8.10 64-bit",
   "language": "python",
   "name": "python3"
  },
  "language_info": {
   "codemirror_mode": {
    "name": "ipython",
    "version": 3
   },
   "file_extension": ".py",
   "mimetype": "text/x-python",
   "name": "python",
   "nbconvert_exporter": "python",
   "pygments_lexer": "ipython3",
   "version": "3.8.10"
  },
  "vscode": {
   "interpreter": {
    "hash": "0409fad0af35be8d8e1895a5a215421434eaeeacd5475a54d670b626b3b2a049"
   }
  }
 },
 "nbformat": 4,
 "nbformat_minor": 5
}
