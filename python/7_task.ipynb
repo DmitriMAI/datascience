{
 "cells": [
  {
   "cell_type": "markdown",
   "id": "d89e88d8",
   "metadata": {},
   "source": [
    "# Самостоятельное задание #7\n",
    "\n",
    "\n",
    "### Задание 1\n",
    "\n",
    "Допишите функцию, которая принимает список чисел и, с помощью множеств, определяет количество различных чисел внутри списка."
   ]
  },
  {
   "cell_type": "code",
   "execution_count": 4,
   "id": "1b443f02",
   "metadata": {},
   "outputs": [
    {
     "name": "stdout",
     "output_type": "stream",
     "text": [
      "4\n",
      "2\n",
      "1\n"
     ]
    }
   ],
   "source": [
    "def how_many_diffrent_in_list(list: list):\n",
    "    a = set(list)\n",
    "    return(len(a))\n",
    "\n",
    "print(how_many_diffrent_in_list([1,2,3,4]))\n",
    "print(how_many_diffrent_in_list([1,1,1,4]))\n",
    "print(how_many_diffrent_in_list([1,1,1,1]))"
   ]
  },
  {
   "cell_type": "markdown",
   "id": "89118666",
   "metadata": {},
   "source": [
    "### Задание 2\n",
    "\n",
    "Допишите функцию, которая принимает несколько списков чисел и, с помощью множеств, определяет количество общих чисел из первого и второго списка."
   ]
  },
  {
   "cell_type": "code",
   "execution_count": 12,
   "id": "9ad5e3fd",
   "metadata": {},
   "outputs": [
    {
     "name": "stdout",
     "output_type": "stream",
     "text": [
      "{2}\n"
     ]
    }
   ],
   "source": [
    "def sovpad(list1: list, list2: list):\n",
    "    return set(list1).intersection(set(list2))\n",
    "\n",
    "print(sovpad([1,2,3], [2,4,5]))"
   ]
  }
 ],
 "metadata": {
  "kernelspec": {
   "display_name": "Python 3.8.10 64-bit",
   "language": "python",
   "name": "python3"
  },
  "language_info": {
   "codemirror_mode": {
    "name": "ipython",
    "version": 3
   },
   "file_extension": ".py",
   "mimetype": "text/x-python",
   "name": "python",
   "nbconvert_exporter": "python",
   "pygments_lexer": "ipython3",
   "version": "3.8.10"
  },
  "vscode": {
   "interpreter": {
    "hash": "0409fad0af35be8d8e1895a5a215421434eaeeacd5475a54d670b626b3b2a049"
   }
  }
 },
 "nbformat": 4,
 "nbformat_minor": 5
}
