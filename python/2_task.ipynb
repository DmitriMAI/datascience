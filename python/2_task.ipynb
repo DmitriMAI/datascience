{
 "cells": [
  {
   "cell_type": "markdown",
   "id": "246424fe",
   "metadata": {},
   "source": [
    "# Самостоятельная работа #2\n",
    "### Задание 1\n",
    "\n",
    "Допишите функцию, которая принимает 2 числа, сравнивает между собой и возвращает наименьшее."
   ]
  },
  {
   "cell_type": "code",
   "execution_count": 10,
   "id": "1b225d18",
   "metadata": {},
   "outputs": [
    {
     "name": "stdout",
     "output_type": "stream",
     "text": [
      "1\n",
      "3\n",
      "5\n"
     ]
    }
   ],
   "source": [
    "### Задание 1\n",
    "#Допишите функцию, которая принимает 2 числа, сравнивает между собой и возвращает наименьшее.\n",
    "\n",
    "def min_num (a,b):\n",
    "    if (a > b):\n",
    "        return b\n",
    "    else:\n",
    "        return a\n",
    "\n",
    "print (min (1,2))\n",
    "print (min (4,3))\n",
    "print (min (5,5))"
   ]
  },
  {
   "cell_type": "markdown",
   "id": "9342d85f",
   "metadata": {},
   "source": [
    "### Задание 2\n",
    "\n",
    "Допишите функцию, которая принимает 3 числа, сравнивает между собой и возвращает наименьшее.\n",
    "\n",
    "   "
   ]
  },
  {
   "cell_type": "code",
   "execution_count": 11,
   "id": "5371aa95",
   "metadata": {},
   "outputs": [
    {
     "name": "stdout",
     "output_type": "stream",
     "text": [
      "1\n",
      "2\n",
      "3\n",
      "4\n"
     ]
    }
   ],
   "source": [
    "def min_3num (a,b,c):\n",
    "    if (a > b):\n",
    "        if (c > b):\n",
    "            return b\n",
    "        else:\n",
    "            return c\n",
    "    else:\n",
    "        if (c > a):\n",
    "            return a\n",
    "        else:\n",
    "            return c\n",
    "\n",
    "print (min_3num (1,2,3))\n",
    "print (min_3num (4,2,3))\n",
    "print (min_3num (4,5,3))\n",
    "print (min_3num (4,4,4))"
   ]
  },
  {
   "cell_type": "markdown",
   "id": "9ef85dfd",
   "metadata": {},
   "source": [
    "### Задание 2\n",
    "\n",
    "Допишите функцию, которая принимает 3 числа, сравнивает между собой и возвращает количество совпадающих чисел. Соответственно, программа может возвращать одно из трех чисел: 3 - если совпадают все, 2 - если совпадают 2 числа, 0 - если все числа различны."
   ]
  },
  {
   "cell_type": "code",
   "execution_count": 13,
   "id": "ec6a169c",
   "metadata": {},
   "outputs": [
    {
     "name": "stdout",
     "output_type": "stream",
     "text": [
      "0\n",
      "2\n",
      "3\n"
     ]
    }
   ],
   "source": [
    "def matched_3 (a, b, c):\n",
    "    if (a==b==c):\n",
    "        return 3\n",
    "    elif (a==b or b==c or a==c):\n",
    "        return 2\n",
    "    else:\n",
    "        return 0\n",
    "print (matched_3 (1,2,3))\n",
    "print (matched_3 (1,1,3))\n",
    "print (matched_3 (1,1,1))"
   ]
  }
 ],
 "metadata": {
  "kernelspec": {
   "display_name": "Python 3.8.10 64-bit",
   "language": "python",
   "name": "python3"
  },
  "language_info": {
   "codemirror_mode": {
    "name": "ipython",
    "version": 3
   },
   "file_extension": ".py",
   "mimetype": "text/x-python",
   "name": "python",
   "nbconvert_exporter": "python",
   "pygments_lexer": "ipython3",
   "version": "3.8.10"
  },
  "vscode": {
   "interpreter": {
    "hash": "0409fad0af35be8d8e1895a5a215421434eaeeacd5475a54d670b626b3b2a049"
   }
  }
 },
 "nbformat": 4,
 "nbformat_minor": 5
}
